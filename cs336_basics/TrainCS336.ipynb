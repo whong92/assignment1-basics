{
 "cells": [
  {
   "cell_type": "code",
   "metadata": {
    "colab": {
     "base_uri": "https://localhost:8080/"
    },
    "executionInfo": {
     "elapsed": 28648,
     "status": "ok",
     "timestamp": 1740310914253,
     "user": {
      "displayName": "WaiHong Ong",
      "userId": "02029516850276427633"
     },
     "user_tz": 0
    },
    "id": "NNSVvFiNwkOk",
    "outputId": "3bc5b84b-f236-4386-95e8-5ae6e99a4c50",
    "jupyter": {
     "is_executing": true
    }
   },
   "source": [
    "COLAB_MODE = True\n",
    "SETUP_RUNTIME = True\n",
    "# google colab shenanigans\n",
    "if COLAB_MODE:\n",
    "    if SETUP_RUNTIME:\n",
    "        from google.colab import drive\n",
    "        drive.mount('/content/drive')\n",
    "\n",
    "        !git clone https://github.com/whong92/assignment1-basics.git\n",
    "        %cd assignment1-basics\n",
    "    else:\n",
    "        %cd assignment1-basics"
   ],
   "outputs": [],
   "execution_count": null
  },
  {
   "metadata": {},
   "cell_type": "code",
   "outputs": [],
   "execution_count": null,
   "source": "!uv run pytest"
  },
  {
   "metadata": {},
   "cell_type": "code",
   "outputs": [],
   "execution_count": null,
   "source": [
    "%%bash\n",
    "uv run python cs336_basics/train.py \\\n",
    "    --config_name default_full \\\n",
    "    --use_wandb \\\n",
    "    --sync_dataset_to_local"
   ]
  }
 ],
 "metadata": {
  "accelerator": "GPU",
  "colab": {
   "provenance": [
    {
     "file_id": "1uQUK9Zfp5b_wGuHcNwT--r4KVAFJEg6J",
     "timestamp": 1693082738616
    }
   ],
   "mount_file_id": "1SO4_niW8KgSn4mHU_La0xzykNZps35Di",
   "authorship_tag": "ABX9TyPmfFp25k5O6hMm6tlHpA+n"
  },
  "kernelspec": {
   "display_name": "Python 3",
   "name": "python3"
  },
  "language_info": {
   "name": "python"
  }
 },
 "nbformat": 4,
 "nbformat_minor": 0
}
